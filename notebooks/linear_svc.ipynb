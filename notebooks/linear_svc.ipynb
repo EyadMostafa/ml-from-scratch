{
 "cells": [
  {
   "cell_type": "code",
   "execution_count": 1,
   "id": "cbdedd3c",
   "metadata": {},
   "outputs": [],
   "source": [
    "import sys\n",
    "import os\n",
    "\n",
    "sys.path.append(os.path.abspath(os.path.join(os.getcwd(), \"..\")))"
   ]
  },
  {
   "cell_type": "code",
   "execution_count": 2,
   "id": "b04270a9",
   "metadata": {},
   "outputs": [],
   "source": [
    "import numpy as np\n",
    "import matplotlib.pyplot as plt\n",
    "from sklearn.datasets import make_moons\n",
    "from sklearn.svm import LinearSVC\n",
    "from ml_lib import LinearSVC as MyLinearSVC\n",
    "from sklearn.preprocessing import StandardScaler\n",
    "from sklearn.metrics import accuracy_score"
   ]
  },
  {
   "cell_type": "code",
   "execution_count": 4,
   "id": "4376bb6a",
   "metadata": {},
   "outputs": [
    {
     "name": "stdout",
     "output_type": "stream",
     "text": [
      "MyLinearSVC accuracy: 0.51\n",
      "LinearSVC accuracy: 0.87\n"
     ]
    }
   ],
   "source": [
    "X, y = make_moons(n_samples=100, noise=0.1, random_state=42)\n",
    "\n",
    "csvc = MyLinearSVC(C=1.0, max_iter=1000, learning_rate=0.1, tol=1e-1)\n",
    "svc = LinearSVC(C=1.0, tol=1e-1, max_iter=1000)\n",
    "scaler = StandardScaler()\n",
    "X = scaler.fit_transform(X)\n",
    "\n",
    "csvc.fit(X, y)\n",
    "svc.fit(X, y)\n",
    "\n",
    "y_pred = csvc.predict(X)\n",
    "print(\"MyLinearSVC accuracy:\", accuracy_score(y, y_pred))\n",
    "\n",
    "y_pred = svc.predict(X)\n",
    "print(\"LinearSVC accuracy:\", accuracy_score(y, y_pred))"
   ]
  },
  {
   "cell_type": "code",
   "execution_count": null,
   "id": "5e091d29",
   "metadata": {},
   "outputs": [],
   "source": []
  },
  {
   "cell_type": "code",
   "execution_count": null,
   "id": "5c66fa02",
   "metadata": {},
   "outputs": [],
   "source": []
  }
 ],
 "metadata": {
  "kernelspec": {
   "display_name": "Python 3",
   "language": "python",
   "name": "python3"
  },
  "language_info": {
   "codemirror_mode": {
    "name": "ipython",
    "version": 3
   },
   "file_extension": ".py",
   "mimetype": "text/x-python",
   "name": "python",
   "nbconvert_exporter": "python",
   "pygments_lexer": "ipython3",
   "version": "3.12.4"
  }
 },
 "nbformat": 4,
 "nbformat_minor": 5
}

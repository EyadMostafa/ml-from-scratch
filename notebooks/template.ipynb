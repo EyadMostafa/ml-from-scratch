{
 "cells": [
  {
   "cell_type": "markdown",
   "id": "7d19309d",
   "metadata": {},
   "source": [
    "# Comparing .... vs ...."
   ]
  },
  {
   "cell_type": "code",
   "execution_count": 1,
   "id": "5590a6b6",
   "metadata": {},
   "outputs": [],
   "source": [
    "import sys\n",
    "import os\n",
    "sys.path.append(os.path.abspath(os.path.join(os.getcwd(), \"..\")))"
   ]
  },
  {
   "cell_type": "code",
   "execution_count": null,
   "id": "c8da76b8",
   "metadata": {},
   "outputs": [],
   "source": []
  },
  {
   "cell_type": "markdown",
   "id": "b1d74bbc",
   "metadata": {},
   "source": [
    "## 1. Dataset Generation"
   ]
  },
  {
   "cell_type": "code",
   "execution_count": null,
   "id": "488f9c9b",
   "metadata": {},
   "outputs": [],
   "source": []
  },
  {
   "cell_type": "markdown",
   "id": "f6790100",
   "metadata": {},
   "source": [
    "## 2. Model Training "
   ]
  },
  {
   "cell_type": "code",
   "execution_count": null,
   "id": "33c1f0a1",
   "metadata": {},
   "outputs": [],
   "source": []
  },
  {
   "cell_type": "markdown",
   "id": "53e3f1fe",
   "metadata": {},
   "source": [
    "## 3. Predictions & Evaluation"
   ]
  },
  {
   "cell_type": "markdown",
   "id": "7b0b1153",
   "metadata": {},
   "source": [
    "### 3.1. Accuracy, precision, recall, F1"
   ]
  },
  {
   "cell_type": "code",
   "execution_count": null,
   "id": "e5836c02",
   "metadata": {},
   "outputs": [],
   "source": []
  },
  {
   "cell_type": "markdown",
   "id": "96a818d9",
   "metadata": {},
   "source": [
    "### 3.2. Confusion Matrix"
   ]
  },
  {
   "cell_type": "code",
   "execution_count": null,
   "id": "f79ae539",
   "metadata": {},
   "outputs": [],
   "source": []
  },
  {
   "cell_type": "markdown",
   "id": "a349e589",
   "metadata": {},
   "source": [
    "### 3.3. Decision Boundary"
   ]
  },
  {
   "cell_type": "code",
   "execution_count": null,
   "id": "ce77d84a",
   "metadata": {},
   "outputs": [],
   "source": []
  }
 ],
 "metadata": {
  "kernelspec": {
   "display_name": "Python 3",
   "language": "python",
   "name": "python3"
  },
  "language_info": {
   "codemirror_mode": {
    "name": "ipython",
    "version": 3
   },
   "file_extension": ".py",
   "mimetype": "text/x-python",
   "name": "python",
   "nbconvert_exporter": "python",
   "pygments_lexer": "ipython3",
   "version": "3.12.1"
  }
 },
 "nbformat": 4,
 "nbformat_minor": 5
}

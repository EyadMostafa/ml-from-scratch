{
 "cells": [
  {
   "cell_type": "code",
   "execution_count": 1,
   "id": "90ee12e4",
   "metadata": {},
   "outputs": [],
   "source": [
    "import sys, os\n",
    "sys.path.append(os.path.abspath(os.path.join(os.getcwd(), \"..\")))"
   ]
  },
  {
   "cell_type": "code",
   "execution_count": 2,
   "id": "73de5243",
   "metadata": {},
   "outputs": [],
   "source": [
    "from sklearn.datasets import load_breast_cancer\n",
    "from sklearn.metrics import accuracy_score\n",
    "from sklearn.linear_model import LogisticRegression\n",
    "from ml_lib import LogisticRegression as CustomLogReg"
   ]
  },
  {
   "cell_type": "code",
   "execution_count": 3,
   "id": "149188e7",
   "metadata": {},
   "outputs": [
    {
     "name": "stdout",
     "output_type": "stream",
     "text": [
      "0.9806678383128296\n",
      "0.9578207381370826\n"
     ]
    }
   ],
   "source": [
    "dataset = load_breast_cancer()\n",
    "X, y = dataset.data, dataset.target\n",
    "\n",
    "clr = CustomLogReg(fit_intercept=True)\n",
    "lr = LogisticRegression(fit_intercept=True, max_iter=3000)\n",
    "clr.fit(X, y)\n",
    "lr.fit(X, y)\n",
    "\n",
    "y_pred_clr = clr.predict(X)\n",
    "y_pred_lr = lr.predict(X)\n",
    "print(accuracy_score(y, y_pred_clr))\n",
    "print(accuracy_score(y, y_pred_lr))\n"
   ]
  },
  {
   "cell_type": "code",
   "execution_count": null,
   "id": "091447be",
   "metadata": {},
   "outputs": [],
   "source": []
  }
 ],
 "metadata": {
  "kernelspec": {
   "display_name": "Python 3",
   "language": "python",
   "name": "python3"
  },
  "language_info": {
   "codemirror_mode": {
    "name": "ipython",
    "version": 3
   },
   "file_extension": ".py",
   "mimetype": "text/x-python",
   "name": "python",
   "nbconvert_exporter": "python",
   "pygments_lexer": "ipython3",
   "version": "3.12.1"
  }
 },
 "nbformat": 4,
 "nbformat_minor": 5
}

{
 "cells": [
  {
   "cell_type": "code",
   "execution_count": 1,
   "id": "ba27d318",
   "metadata": {},
   "outputs": [],
   "source": [
    "import sys, os\n",
    "sys.path.append(os.path.abspath(os.path.join(os.getcwd(), \"..\")))"
   ]
  },
  {
   "cell_type": "code",
   "execution_count": 5,
   "id": "096689b5",
   "metadata": {},
   "outputs": [],
   "source": [
    "from sklearn.datasets import fetch_20newsgroups\n",
    "from sklearn.naive_bayes import MultinomialNB\n",
    "from ml_lib import MultinomialNB as MNB\n",
    "from sklearn.model_selection import train_test_split\n",
    "from sklearn.metrics import accuracy_score\n",
    "from sklearn.feature_extraction.text import CountVectorizer, TfidfVectorizer\n",
    "\n"
   ]
  },
  {
   "cell_type": "code",
   "execution_count": 3,
   "id": "92a3c13e",
   "metadata": {},
   "outputs": [],
   "source": [
    "data = fetch_20newsgroups(subset='train', remove=('headers', 'footers', 'quotes'))"
   ]
  },
  {
   "cell_type": "code",
   "execution_count": 6,
   "id": "27faba7f",
   "metadata": {},
   "outputs": [
    {
     "name": "stdout",
     "output_type": "stream",
     "text": [
      "Custom MNB Accuracy Score: 0.632378932484977\n",
      "Sklearn MNB Accuracy Score: 0.632378932484977\n"
     ]
    }
   ],
   "source": [
    "mnb_cs = MNB()\n",
    "mnb_sk = MultinomialNB()\n",
    "\n",
    "vectorizer = TfidfVectorizer(stop_words='english', max_features=2000)\n",
    "X = vectorizer.fit_transform(data.data)\n",
    "X_train, X_test, y_train, y_test = train_test_split(X.toarray(), data.target)\n",
    "\n",
    "preds_cs = mnb_cs.fit(X_train, y_train).predict(X_test)\n",
    "preds_sk = mnb_sk.fit(X_train, y_train).predict(X_test)\n",
    "\n",
    "print(\"Custom MNB Accuracy Score:\", accuracy_score(y_test, preds_cs))\n",
    "print(\"Sklearn MNB Accuracy Score:\", accuracy_score(y_test, preds_sk))"
   ]
  },
  {
   "cell_type": "code",
   "execution_count": null,
   "id": "128d4448",
   "metadata": {},
   "outputs": [],
   "source": []
  }
 ],
 "metadata": {
  "kernelspec": {
   "display_name": "Python 3",
   "language": "python",
   "name": "python3"
  },
  "language_info": {
   "codemirror_mode": {
    "name": "ipython",
    "version": 3
   },
   "file_extension": ".py",
   "mimetype": "text/x-python",
   "name": "python",
   "nbconvert_exporter": "python",
   "pygments_lexer": "ipython3",
   "version": "3.12.1"
  }
 },
 "nbformat": 4,
 "nbformat_minor": 5
}
